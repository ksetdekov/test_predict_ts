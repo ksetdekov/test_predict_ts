{
 "cells": [
  {
   "cell_type": "markdown",
   "metadata": {
    "colab_type": "text",
    "id": "view-in-github"
   },
   "source": [
    "<a href=\"https://colab.research.google.com/github/ksetdekov/test_predict_ts/blob/main/analysis_and_fx.ipynb\" target=\"_parent\"><img src=\"https://colab.research.google.com/assets/colab-badge.svg\" alt=\"Open In Colab\"/></a>"
   ]
  },
  {
   "cell_type": "markdown",
   "metadata": {
    "id": "bl3ZIXW5Fh11"
   },
   "source": [
    "# Imports"
   ]
  },
  {
   "cell_type": "code",
   "execution_count": 2,
   "metadata": {
    "id": "F53AfNJQFm2C"
   },
   "outputs": [],
   "source": [
    "import json\n",
    "\n",
    "import numpy as np\n",
    "import pandas as pd\n",
    "import seaborn as sns\n",
    "\n",
    "from fbprophet import Prophet\n",
    "from fbprophet.diagnostics import cross_validation\n",
    "from fbprophet.diagnostics import performance_metrics\n",
    "from fbprophet.plot import add_changepoints_to_plot\n",
    "from fbprophet.plot import plot_cross_validation_metric\n",
    "from fbprophet.serialize import model_to_json, model_from_json\n",
    "\n"
   ]
  },
  {
   "cell_type": "code",
   "execution_count": 3,
   "metadata": {
    "id": "I1OHnqjhIsGT"
   },
   "outputs": [],
   "source": [
    "%matplotlib inline"
   ]
  },
  {
   "cell_type": "code",
   "execution_count": 4,
   "metadata": {
    "colab": {
     "base_uri": "https://localhost:8080/",
     "height": 419
    },
    "id": "-pQw1WhHF3Ee",
    "outputId": "912b3bed-3bea-47da-9312-42f8f4f71e05"
   },
   "outputs": [
    {
     "data": {
      "text/html": [
       "<div>\n",
       "<style scoped>\n",
       "    .dataframe tbody tr th:only-of-type {\n",
       "        vertical-align: middle;\n",
       "    }\n",
       "\n",
       "    .dataframe tbody tr th {\n",
       "        vertical-align: top;\n",
       "    }\n",
       "\n",
       "    .dataframe thead th {\n",
       "        text-align: right;\n",
       "    }\n",
       "</style>\n",
       "<table border=\"1\" class=\"dataframe\">\n",
       "  <thead>\n",
       "    <tr style=\"text-align: right;\">\n",
       "      <th></th>\n",
       "      <th>date</th>\n",
       "      <th>clients</th>\n",
       "    </tr>\n",
       "  </thead>\n",
       "  <tbody>\n",
       "    <tr>\n",
       "      <th>0</th>\n",
       "      <td>1/2/2010 0:00</td>\n",
       "      <td>129.0</td>\n",
       "    </tr>\n",
       "    <tr>\n",
       "      <th>1</th>\n",
       "      <td>1/2/2010 1:00</td>\n",
       "      <td>148.0</td>\n",
       "    </tr>\n",
       "    <tr>\n",
       "      <th>2</th>\n",
       "      <td>1/2/2010 2:00</td>\n",
       "      <td>159.0</td>\n",
       "    </tr>\n",
       "    <tr>\n",
       "      <th>3</th>\n",
       "      <td>1/2/2010 3:00</td>\n",
       "      <td>181.0</td>\n",
       "    </tr>\n",
       "    <tr>\n",
       "      <th>4</th>\n",
       "      <td>1/2/2010 4:00</td>\n",
       "      <td>138.0</td>\n",
       "    </tr>\n",
       "    <tr>\n",
       "      <th>...</th>\n",
       "      <td>...</td>\n",
       "      <td>...</td>\n",
       "    </tr>\n",
       "    <tr>\n",
       "      <th>43795</th>\n",
       "      <td>NaN</td>\n",
       "      <td>NaN</td>\n",
       "    </tr>\n",
       "    <tr>\n",
       "      <th>43796</th>\n",
       "      <td>NaN</td>\n",
       "      <td>NaN</td>\n",
       "    </tr>\n",
       "    <tr>\n",
       "      <th>43797</th>\n",
       "      <td>NaN</td>\n",
       "      <td>NaN</td>\n",
       "    </tr>\n",
       "    <tr>\n",
       "      <th>43798</th>\n",
       "      <td>NaN</td>\n",
       "      <td>NaN</td>\n",
       "    </tr>\n",
       "    <tr>\n",
       "      <th>43799</th>\n",
       "      <td>NaN</td>\n",
       "      <td>NaN</td>\n",
       "    </tr>\n",
       "  </tbody>\n",
       "</table>\n",
       "<p>43800 rows × 2 columns</p>\n",
       "</div>"
      ],
      "text/plain": [
       "                date  clients\n",
       "0      1/2/2010 0:00    129.0\n",
       "1      1/2/2010 1:00    148.0\n",
       "2      1/2/2010 2:00    159.0\n",
       "3      1/2/2010 3:00    181.0\n",
       "4      1/2/2010 4:00    138.0\n",
       "...              ...      ...\n",
       "43795            NaN      NaN\n",
       "43796            NaN      NaN\n",
       "43797            NaN      NaN\n",
       "43798            NaN      NaN\n",
       "43799            NaN      NaN\n",
       "\n",
       "[43800 rows x 2 columns]"
      ]
     },
     "execution_count": 4,
     "metadata": {
      "tags": []
     },
     "output_type": "execute_result"
    }
   ],
   "source": [
    "data_url = 'https://raw.githubusercontent.com/ksetdekov/test_predict_ts/main/2_5350833418869411277.csv'\n",
    "data = pd.read_csv(data_url)\n",
    "data"
   ]
  },
  {
   "cell_type": "code",
   "execution_count": null,
   "metadata": {
    "colab": {
     "base_uri": "https://localhost:8080/",
     "height": 986
    },
    "id": "2NFTSOAOGENt",
    "outputId": "aea7a800-4c2a-4cbc-dc9b-838b46864f7e"
   },
   "outputs": [
    {
     "data": {
      "text/html": [
       "<div>\n",
       "<style scoped>\n",
       "    .dataframe tbody tr th:only-of-type {\n",
       "        vertical-align: middle;\n",
       "    }\n",
       "\n",
       "    .dataframe tbody tr th {\n",
       "        vertical-align: top;\n",
       "    }\n",
       "\n",
       "    .dataframe thead th {\n",
       "        text-align: right;\n",
       "    }\n",
       "</style>\n",
       "<table border=\"1\" class=\"dataframe\">\n",
       "  <thead>\n",
       "    <tr style=\"text-align: right;\">\n",
       "      <th></th>\n",
       "      <th>date</th>\n",
       "      <th>clients</th>\n",
       "    </tr>\n",
       "  </thead>\n",
       "  <tbody>\n",
       "    <tr>\n",
       "      <th>43770</th>\n",
       "      <td>12/30/2014 18:00</td>\n",
       "      <td>79.0</td>\n",
       "    </tr>\n",
       "    <tr>\n",
       "      <th>43771</th>\n",
       "      <td>12/30/2014 19:00</td>\n",
       "      <td>35.0</td>\n",
       "    </tr>\n",
       "    <tr>\n",
       "      <th>43772</th>\n",
       "      <td>12/30/2014 20:00</td>\n",
       "      <td>26.0</td>\n",
       "    </tr>\n",
       "    <tr>\n",
       "      <th>43773</th>\n",
       "      <td>12/30/2014 21:00</td>\n",
       "      <td>20.0</td>\n",
       "    </tr>\n",
       "    <tr>\n",
       "      <th>43774</th>\n",
       "      <td>12/30/2014 22:00</td>\n",
       "      <td>8.0</td>\n",
       "    </tr>\n",
       "    <tr>\n",
       "      <th>43775</th>\n",
       "      <td>12/30/2014 23:00</td>\n",
       "      <td>16.0</td>\n",
       "    </tr>\n",
       "    <tr>\n",
       "      <th>43776</th>\n",
       "      <td>NaN</td>\n",
       "      <td>NaN</td>\n",
       "    </tr>\n",
       "    <tr>\n",
       "      <th>43777</th>\n",
       "      <td>NaN</td>\n",
       "      <td>NaN</td>\n",
       "    </tr>\n",
       "    <tr>\n",
       "      <th>43778</th>\n",
       "      <td>NaN</td>\n",
       "      <td>NaN</td>\n",
       "    </tr>\n",
       "    <tr>\n",
       "      <th>43779</th>\n",
       "      <td>NaN</td>\n",
       "      <td>NaN</td>\n",
       "    </tr>\n",
       "    <tr>\n",
       "      <th>43780</th>\n",
       "      <td>NaN</td>\n",
       "      <td>NaN</td>\n",
       "    </tr>\n",
       "    <tr>\n",
       "      <th>43781</th>\n",
       "      <td>NaN</td>\n",
       "      <td>NaN</td>\n",
       "    </tr>\n",
       "    <tr>\n",
       "      <th>43782</th>\n",
       "      <td>NaN</td>\n",
       "      <td>NaN</td>\n",
       "    </tr>\n",
       "    <tr>\n",
       "      <th>43783</th>\n",
       "      <td>NaN</td>\n",
       "      <td>NaN</td>\n",
       "    </tr>\n",
       "    <tr>\n",
       "      <th>43784</th>\n",
       "      <td>NaN</td>\n",
       "      <td>NaN</td>\n",
       "    </tr>\n",
       "    <tr>\n",
       "      <th>43785</th>\n",
       "      <td>NaN</td>\n",
       "      <td>NaN</td>\n",
       "    </tr>\n",
       "    <tr>\n",
       "      <th>43786</th>\n",
       "      <td>NaN</td>\n",
       "      <td>NaN</td>\n",
       "    </tr>\n",
       "    <tr>\n",
       "      <th>43787</th>\n",
       "      <td>NaN</td>\n",
       "      <td>NaN</td>\n",
       "    </tr>\n",
       "    <tr>\n",
       "      <th>43788</th>\n",
       "      <td>NaN</td>\n",
       "      <td>NaN</td>\n",
       "    </tr>\n",
       "    <tr>\n",
       "      <th>43789</th>\n",
       "      <td>NaN</td>\n",
       "      <td>NaN</td>\n",
       "    </tr>\n",
       "    <tr>\n",
       "      <th>43790</th>\n",
       "      <td>NaN</td>\n",
       "      <td>NaN</td>\n",
       "    </tr>\n",
       "    <tr>\n",
       "      <th>43791</th>\n",
       "      <td>NaN</td>\n",
       "      <td>NaN</td>\n",
       "    </tr>\n",
       "    <tr>\n",
       "      <th>43792</th>\n",
       "      <td>NaN</td>\n",
       "      <td>NaN</td>\n",
       "    </tr>\n",
       "    <tr>\n",
       "      <th>43793</th>\n",
       "      <td>NaN</td>\n",
       "      <td>NaN</td>\n",
       "    </tr>\n",
       "    <tr>\n",
       "      <th>43794</th>\n",
       "      <td>NaN</td>\n",
       "      <td>NaN</td>\n",
       "    </tr>\n",
       "    <tr>\n",
       "      <th>43795</th>\n",
       "      <td>NaN</td>\n",
       "      <td>NaN</td>\n",
       "    </tr>\n",
       "    <tr>\n",
       "      <th>43796</th>\n",
       "      <td>NaN</td>\n",
       "      <td>NaN</td>\n",
       "    </tr>\n",
       "    <tr>\n",
       "      <th>43797</th>\n",
       "      <td>NaN</td>\n",
       "      <td>NaN</td>\n",
       "    </tr>\n",
       "    <tr>\n",
       "      <th>43798</th>\n",
       "      <td>NaN</td>\n",
       "      <td>NaN</td>\n",
       "    </tr>\n",
       "    <tr>\n",
       "      <th>43799</th>\n",
       "      <td>NaN</td>\n",
       "      <td>NaN</td>\n",
       "    </tr>\n",
       "  </tbody>\n",
       "</table>\n",
       "</div>"
      ],
      "text/plain": [
       "                   date  clients\n",
       "43770  12/30/2014 18:00     79.0\n",
       "43771  12/30/2014 19:00     35.0\n",
       "43772  12/30/2014 20:00     26.0\n",
       "43773  12/30/2014 21:00     20.0\n",
       "43774  12/30/2014 22:00      8.0\n",
       "43775  12/30/2014 23:00     16.0\n",
       "43776               NaN      NaN\n",
       "43777               NaN      NaN\n",
       "43778               NaN      NaN\n",
       "43779               NaN      NaN\n",
       "43780               NaN      NaN\n",
       "43781               NaN      NaN\n",
       "43782               NaN      NaN\n",
       "43783               NaN      NaN\n",
       "43784               NaN      NaN\n",
       "43785               NaN      NaN\n",
       "43786               NaN      NaN\n",
       "43787               NaN      NaN\n",
       "43788               NaN      NaN\n",
       "43789               NaN      NaN\n",
       "43790               NaN      NaN\n",
       "43791               NaN      NaN\n",
       "43792               NaN      NaN\n",
       "43793               NaN      NaN\n",
       "43794               NaN      NaN\n",
       "43795               NaN      NaN\n",
       "43796               NaN      NaN\n",
       "43797               NaN      NaN\n",
       "43798               NaN      NaN\n",
       "43799               NaN      NaN"
      ]
     },
     "execution_count": 7,
     "metadata": {
      "tags": []
     },
     "output_type": "execute_result"
    }
   ],
   "source": [
    "data.tail(30)"
   ]
  },
  {
   "cell_type": "code",
   "execution_count": null,
   "metadata": {
    "id": "0YiQHmwML178"
   },
   "outputs": [],
   "source": [
    "data.date = pd.to_datetime(data.date)"
   ]
  },
  {
   "cell_type": "code",
   "execution_count": null,
   "metadata": {
    "colab": {
     "base_uri": "https://localhost:8080/",
     "height": 269
    },
    "id": "3Ju5b3DGGXEd",
    "outputId": "d2d1ba31-dccc-47f2-d6e3-43b97871deeb"
   },
   "outputs": [
    {
     "data": {
      "image/png": "[encoded data removed]",
      "text/plain": [
       "<Figure size 432x288 with 2 Axes>"
      ]
     },
     "metadata": {
      "needs_background": "light",
      "tags": []
     },
     "output_type": "display_data"
    }
   ],
   "source": [
    "colors = ['#000099', '#ffff00'] \n",
    "\n",
    "a = sns.heatmap(data.isnull(), cmap=sns.color_palette(colors))"
   ]
  },
  {
   "cell_type": "markdown",
   "metadata": {
    "id": "9uBW0BoRGlM2"
   },
   "source": [
    "Визуально пропусков не подавляющее число"
   ]
  },
  {
   "cell_type": "code",
   "execution_count": null,
   "metadata": {
    "colab": {
     "base_uri": "https://localhost:8080/",
     "height": 283
    },
    "id": "qMdg_-yJGtm2",
    "outputId": "b4f21560-de8f-42e3-c547-da0e3f15a8d1"
   },
   "outputs": [
    {
     "data": {
      "text/plain": [
       "<matplotlib.axes._subplots.AxesSubplot at 0x7ff65ba2ab90>"
      ]
     },
     "execution_count": 10,
     "metadata": {
      "tags": []
     },
     "output_type": "execute_result"
    },
    {
     "data": {
      "image/png": "[encoded data removed]",
      "text/plain": [
       "<Figure size 432x288 with 1 Axes>"
      ]
     },
     "metadata": {
      "needs_background": "light",
      "tags": []
     },
     "output_type": "display_data"
    }
   ],
   "source": [
    "data.boxplot(column=['clients'])"
   ]
  },
  {
   "cell_type": "code",
   "execution_count": null,
   "metadata": {
    "colab": {
     "base_uri": "https://localhost:8080/",
     "height": 299
    },
    "id": "UjzVRdfxHCjD",
    "outputId": "ae6c7d0c-5bff-4e3e-a297-69f1fc35dfdc"
   },
   "outputs": [
    {
     "data": {
      "text/html": [
       "<div>\n",
       "<style scoped>\n",
       "    .dataframe tbody tr th:only-of-type {\n",
       "        vertical-align: middle;\n",
       "    }\n",
       "\n",
       "    .dataframe tbody tr th {\n",
       "        vertical-align: top;\n",
       "    }\n",
       "\n",
       "    .dataframe thead th {\n",
       "        text-align: right;\n",
       "    }\n",
       "</style>\n",
       "<table border=\"1\" class=\"dataframe\">\n",
       "  <thead>\n",
       "    <tr style=\"text-align: right;\">\n",
       "      <th></th>\n",
       "      <th>clients</th>\n",
       "    </tr>\n",
       "  </thead>\n",
       "  <tbody>\n",
       "    <tr>\n",
       "      <th>count</th>\n",
       "      <td>43776.000000</td>\n",
       "    </tr>\n",
       "    <tr>\n",
       "      <th>mean</th>\n",
       "      <td>94.059553</td>\n",
       "    </tr>\n",
       "    <tr>\n",
       "      <th>std</th>\n",
       "      <td>92.256575</td>\n",
       "    </tr>\n",
       "    <tr>\n",
       "      <th>min</th>\n",
       "      <td>0.000000</td>\n",
       "    </tr>\n",
       "    <tr>\n",
       "      <th>25%</th>\n",
       "      <td>24.000000</td>\n",
       "    </tr>\n",
       "    <tr>\n",
       "      <th>50%</th>\n",
       "      <td>68.000000</td>\n",
       "    </tr>\n",
       "    <tr>\n",
       "      <th>75%</th>\n",
       "      <td>133.000000</td>\n",
       "    </tr>\n",
       "    <tr>\n",
       "      <th>max</th>\n",
       "      <td>994.000000</td>\n",
       "    </tr>\n",
       "  </tbody>\n",
       "</table>\n",
       "</div>"
      ],
      "text/plain": [
       "            clients\n",
       "count  43776.000000\n",
       "mean      94.059553\n",
       "std       92.256575\n",
       "min        0.000000\n",
       "25%       24.000000\n",
       "50%       68.000000\n",
       "75%      133.000000\n",
       "max      994.000000"
      ]
     },
     "execution_count": 11,
     "metadata": {
      "tags": []
     },
     "output_type": "execute_result"
    }
   ],
   "source": [
    "data.describe()"
   ]
  },
  {
   "cell_type": "code",
   "execution_count": null,
   "metadata": {
    "colab": {
     "base_uri": "https://localhost:8080/",
     "height": 283
    },
    "id": "qNBon7YGICxT",
    "outputId": "53c783e9-3cf7-496a-aa83-a192c7f14b39"
   },
   "outputs": [
    {
     "data": {
      "image/png": "[encoded data removed]",
      "text/plain": [
       "<Figure size 432x288 with 1 Axes>"
      ]
     },
     "metadata": {
      "needs_background": "light",
      "tags": []
     },
     "output_type": "display_data"
    }
   ],
   "source": [
    "ax = sns.histplot(data=data, x=\"clients\", kde=True)\n",
    "ax.set_xscale('symlog')"
   ]
  },
  {
   "cell_type": "code",
   "execution_count": null,
   "metadata": {
    "colab": {
     "base_uri": "https://localhost:8080/",
     "height": 297
    },
    "id": "jfnZnS0lKWtH",
    "outputId": "5cc8677c-42fd-4ac9-f0d4-2508373c7320"
   },
   "outputs": [
    {
     "data": {
      "text/plain": [
       "<matplotlib.axes._subplots.AxesSubplot at 0x7ff657f11510>"
      ]
     },
     "execution_count": 13,
     "metadata": {
      "tags": []
     },
     "output_type": "execute_result"
    },
    {
     "data": {
      "image/png": "[encoded data removed]",
      "text/plain": [
       "<Figure size 432x288 with 1 Axes>"
      ]
     },
     "metadata": {
      "needs_background": "light",
      "tags": []
     },
     "output_type": "display_data"
    }
   ],
   "source": [
    "sns.histplot(data=data, x=\"clients\", kde=True)"
   ]
  },
  {
   "cell_type": "markdown",
   "metadata": {
    "id": "7BNIuq8ZG-xK"
   },
   "source": [
    "Целевая переменная с тяжелым правым хвостом, наблюдаемые значение имеют положительную ассиметрию, мода меньше среднего, все наблюдаемые значения $< 1000$."
   ]
  },
  {
   "cell_type": "code",
   "execution_count": null,
   "metadata": {
    "colab": {
     "base_uri": "https://localhost:8080/"
    },
    "id": "OEC-vX4XG5qR",
    "outputId": "f684284d-177a-4d3d-ec7b-d07cfbc66b7d"
   },
   "outputs": [
    {
     "data": {
      "text/plain": [
       "date       24\n",
       "clients    24\n",
       "dtype: int64"
      ]
     },
     "execution_count": 14,
     "metadata": {
      "tags": []
     },
     "output_type": "execute_result"
    }
   ],
   "source": [
    "misscount = data.isna().sum()\n",
    "misscount[misscount>0]"
   ]
  },
  {
   "cell_type": "markdown",
   "metadata": {
    "id": "NUSbwZ2qH-Ev"
   },
   "source": [
    "Есть предположение, что 0 могуть быть пропусками, других пропусков, кроме хвоста датасета нет."
   ]
  },
  {
   "cell_type": "markdown",
   "metadata": {
    "id": "GCDVosSOK54P"
   },
   "source": [
    "# FB prophet"
   ]
  },
  {
   "cell_type": "code",
   "execution_count": null,
   "metadata": {
    "colab": {
     "base_uri": "https://localhost:8080/",
     "height": 205
    },
    "id": "4JjbdWnsK8AT",
    "outputId": "3df7a51e-751b-42fd-9a80-036f6b6b318c"
   },
   "outputs": [
    {
     "data": {
      "text/html": [
       "<div>\n",
       "<style scoped>\n",
       "    .dataframe tbody tr th:only-of-type {\n",
       "        vertical-align: middle;\n",
       "    }\n",
       "\n",
       "    .dataframe tbody tr th {\n",
       "        vertical-align: top;\n",
       "    }\n",
       "\n",
       "    .dataframe thead th {\n",
       "        text-align: right;\n",
       "    }\n",
       "</style>\n",
       "<table border=\"1\" class=\"dataframe\">\n",
       "  <thead>\n",
       "    <tr style=\"text-align: right;\">\n",
       "      <th></th>\n",
       "      <th>ds</th>\n",
       "      <th>y</th>\n",
       "      <th>cap</th>\n",
       "      <th>floor</th>\n",
       "    </tr>\n",
       "  </thead>\n",
       "  <tbody>\n",
       "    <tr>\n",
       "      <th>0</th>\n",
       "      <td>2010-01-02 00:00:00</td>\n",
       "      <td>129.0</td>\n",
       "      <td>2000</td>\n",
       "      <td>0</td>\n",
       "    </tr>\n",
       "    <tr>\n",
       "      <th>1</th>\n",
       "      <td>2010-01-02 01:00:00</td>\n",
       "      <td>148.0</td>\n",
       "      <td>2000</td>\n",
       "      <td>0</td>\n",
       "    </tr>\n",
       "    <tr>\n",
       "      <th>2</th>\n",
       "      <td>2010-01-02 02:00:00</td>\n",
       "      <td>159.0</td>\n",
       "      <td>2000</td>\n",
       "      <td>0</td>\n",
       "    </tr>\n",
       "    <tr>\n",
       "      <th>3</th>\n",
       "      <td>2010-01-02 03:00:00</td>\n",
       "      <td>181.0</td>\n",
       "      <td>2000</td>\n",
       "      <td>0</td>\n",
       "    </tr>\n",
       "    <tr>\n",
       "      <th>4</th>\n",
       "      <td>2010-01-02 04:00:00</td>\n",
       "      <td>138.0</td>\n",
       "      <td>2000</td>\n",
       "      <td>0</td>\n",
       "    </tr>\n",
       "  </tbody>\n",
       "</table>\n",
       "</div>"
      ],
      "text/plain": [
       "                   ds      y   cap  floor\n",
       "0 2010-01-02 00:00:00  129.0  2000      0\n",
       "1 2010-01-02 01:00:00  148.0  2000      0\n",
       "2 2010-01-02 02:00:00  159.0  2000      0\n",
       "3 2010-01-02 03:00:00  181.0  2000      0\n",
       "4 2010-01-02 04:00:00  138.0  2000      0"
      ]
     },
     "execution_count": 15,
     "metadata": {
      "tags": []
     },
     "output_type": "execute_result"
    }
   ],
   "source": [
    "df=data.copy()\n",
    "df.dropna(inplace=True)\n",
    "df.columns =['ds', 'y']\n",
    "df['cap'] = 2000\n",
    "df['floor'] = 0\n",
    "df.head()"
   ]
  },
  {
   "cell_type": "code",
   "execution_count": null,
   "metadata": {
    "colab": {
     "base_uri": "https://localhost:8080/"
    },
    "id": "hT83OYTuLrSL",
    "outputId": "75c8d607-cca2-422d-fa50-544a1fb20b38"
   },
   "outputs": [
    {
     "data": {
      "text/plain": [
       "<fbprophet.forecaster.Prophet at 0x7ff657f1dd90>"
      ]
     },
     "execution_count": 16,
     "metadata": {
      "tags": []
     },
     "output_type": "execute_result"
    }
   ],
   "source": [
    "m = Prophet(growth = 'logistic',  daily_seasonality=True)\n",
    "# m = Prophet(mcmc_samples=300)\n",
    "\n",
    "m.fit(df)"
   ]
  },
  {
   "cell_type": "code",
   "execution_count": null,
   "metadata": {
    "colab": {
     "base_uri": "https://localhost:8080/",
     "height": 205
    },
    "id": "1cm5a3FAM9Cm",
    "outputId": "1e602573-dda6-4671-e45b-f5df953befe2"
   },
   "outputs": [
    {
     "data": {
      "text/html": [
       "<div>\n",
       "<style scoped>\n",
       "    .dataframe tbody tr th:only-of-type {\n",
       "        vertical-align: middle;\n",
       "    }\n",
       "\n",
       "    .dataframe tbody tr th {\n",
       "        vertical-align: top;\n",
       "    }\n",
       "\n",
       "    .dataframe thead th {\n",
       "        text-align: right;\n",
       "    }\n",
       "</style>\n",
       "<table border=\"1\" class=\"dataframe\">\n",
       "  <thead>\n",
       "    <tr style=\"text-align: right;\">\n",
       "      <th></th>\n",
       "      <th>ds</th>\n",
       "      <th>cap</th>\n",
       "      <th>floor</th>\n",
       "    </tr>\n",
       "  </thead>\n",
       "  <tbody>\n",
       "    <tr>\n",
       "      <th>0</th>\n",
       "      <td>2010-01-02 00:00:00</td>\n",
       "      <td>2000</td>\n",
       "      <td>0</td>\n",
       "    </tr>\n",
       "    <tr>\n",
       "      <th>1</th>\n",
       "      <td>2010-01-02 01:00:00</td>\n",
       "      <td>2000</td>\n",
       "      <td>0</td>\n",
       "    </tr>\n",
       "    <tr>\n",
       "      <th>2</th>\n",
       "      <td>2010-01-02 02:00:00</td>\n",
       "      <td>2000</td>\n",
       "      <td>0</td>\n",
       "    </tr>\n",
       "    <tr>\n",
       "      <th>3</th>\n",
       "      <td>2010-01-02 03:00:00</td>\n",
       "      <td>2000</td>\n",
       "      <td>0</td>\n",
       "    </tr>\n",
       "    <tr>\n",
       "      <th>4</th>\n",
       "      <td>2010-01-02 04:00:00</td>\n",
       "      <td>2000</td>\n",
       "      <td>0</td>\n",
       "    </tr>\n",
       "  </tbody>\n",
       "</table>\n",
       "</div>"
      ],
      "text/plain": [
       "                   ds   cap  floor\n",
       "0 2010-01-02 00:00:00  2000      0\n",
       "1 2010-01-02 01:00:00  2000      0\n",
       "2 2010-01-02 02:00:00  2000      0\n",
       "3 2010-01-02 03:00:00  2000      0\n",
       "4 2010-01-02 04:00:00  2000      0"
      ]
     },
     "execution_count": 17,
     "metadata": {
      "tags": []
     },
     "output_type": "execute_result"
    }
   ],
   "source": [
    "future = m.make_future_dataframe(periods=48, freq='H')\n",
    "future['cap'] = 2000\n",
    "future['floor'] = 0\n",
    "future.head()"
   ]
  },
  {
   "cell_type": "code",
   "execution_count": null,
   "metadata": {
    "colab": {
     "base_uri": "https://localhost:8080/",
     "height": 422
    },
    "id": "xILeXARFOOyS",
    "outputId": "872d53be-e16a-454f-ebbd-e645684d66d1"
   },
   "outputs": [
    {
     "data": {
      "text/html": [
       "<div>\n",
       "<style scoped>\n",
       "    .dataframe tbody tr th:only-of-type {\n",
       "        vertical-align: middle;\n",
       "    }\n",
       "\n",
       "    .dataframe tbody tr th {\n",
       "        vertical-align: top;\n",
       "    }\n",
       "\n",
       "    .dataframe thead th {\n",
       "        text-align: right;\n",
       "    }\n",
       "</style>\n",
       "<table border=\"1\" class=\"dataframe\">\n",
       "  <thead>\n",
       "    <tr style=\"text-align: right;\">\n",
       "      <th></th>\n",
       "      <th>ds</th>\n",
       "      <th>cap</th>\n",
       "      <th>floor</th>\n",
       "    </tr>\n",
       "  </thead>\n",
       "  <tbody>\n",
       "    <tr>\n",
       "      <th>0</th>\n",
       "      <td>2010-01-02 00:00:00</td>\n",
       "      <td>2000</td>\n",
       "      <td>0</td>\n",
       "    </tr>\n",
       "    <tr>\n",
       "      <th>1</th>\n",
       "      <td>2010-01-02 01:00:00</td>\n",
       "      <td>2000</td>\n",
       "      <td>0</td>\n",
       "    </tr>\n",
       "    <tr>\n",
       "      <th>2</th>\n",
       "      <td>2010-01-02 02:00:00</td>\n",
       "      <td>2000</td>\n",
       "      <td>0</td>\n",
       "    </tr>\n",
       "    <tr>\n",
       "      <th>3</th>\n",
       "      <td>2010-01-02 03:00:00</td>\n",
       "      <td>2000</td>\n",
       "      <td>0</td>\n",
       "    </tr>\n",
       "    <tr>\n",
       "      <th>4</th>\n",
       "      <td>2010-01-02 04:00:00</td>\n",
       "      <td>2000</td>\n",
       "      <td>0</td>\n",
       "    </tr>\n",
       "    <tr>\n",
       "      <th>...</th>\n",
       "      <td>...</td>\n",
       "      <td>...</td>\n",
       "      <td>...</td>\n",
       "    </tr>\n",
       "    <tr>\n",
       "      <th>43819</th>\n",
       "      <td>2015-01-01 19:00:00</td>\n",
       "      <td>2000</td>\n",
       "      <td>0</td>\n",
       "    </tr>\n",
       "    <tr>\n",
       "      <th>43820</th>\n",
       "      <td>2015-01-01 20:00:00</td>\n",
       "      <td>2000</td>\n",
       "      <td>0</td>\n",
       "    </tr>\n",
       "    <tr>\n",
       "      <th>43821</th>\n",
       "      <td>2015-01-01 21:00:00</td>\n",
       "      <td>2000</td>\n",
       "      <td>0</td>\n",
       "    </tr>\n",
       "    <tr>\n",
       "      <th>43822</th>\n",
       "      <td>2015-01-01 22:00:00</td>\n",
       "      <td>2000</td>\n",
       "      <td>0</td>\n",
       "    </tr>\n",
       "    <tr>\n",
       "      <th>43823</th>\n",
       "      <td>2015-01-01 23:00:00</td>\n",
       "      <td>2000</td>\n",
       "      <td>0</td>\n",
       "    </tr>\n",
       "  </tbody>\n",
       "</table>\n",
       "<p>43824 rows × 3 columns</p>\n",
       "</div>"
      ],
      "text/plain": [
       "                       ds   cap  floor\n",
       "0     2010-01-02 00:00:00  2000      0\n",
       "1     2010-01-02 01:00:00  2000      0\n",
       "2     2010-01-02 02:00:00  2000      0\n",
       "3     2010-01-02 03:00:00  2000      0\n",
       "4     2010-01-02 04:00:00  2000      0\n",
       "...                   ...   ...    ...\n",
       "43819 2015-01-01 19:00:00  2000      0\n",
       "43820 2015-01-01 20:00:00  2000      0\n",
       "43821 2015-01-01 21:00:00  2000      0\n",
       "43822 2015-01-01 22:00:00  2000      0\n",
       "43823 2015-01-01 23:00:00  2000      0\n",
       "\n",
       "[43824 rows x 3 columns]"
      ]
     },
     "execution_count": 18,
     "metadata": {
      "tags": []
     },
     "output_type": "execute_result"
    }
   ],
   "source": [
    "future"
   ]
  },
  {
   "cell_type": "code",
   "execution_count": null,
   "metadata": {
    "colab": {
     "base_uri": "https://localhost:8080/",
     "height": 441
    },
    "id": "bQ5MT_0NLsff",
    "outputId": "cdb33dbb-5796-4c28-ae16-a414fbc9914c"
   },
   "outputs": [
    {
     "data": {
      "image/png": "[encoded data removed]",
      "text/plain": [
       "<Figure size 720x432 with 1 Axes>"
      ]
     },
     "metadata": {
      "tags": []
     },
     "output_type": "display_data"
    }
   ],
   "source": [
    "fcst = m.predict(future)\n",
    "fig = m.plot(fcst)"
   ]
  },
  {
   "cell_type": "code",
   "execution_count": null,
   "metadata": {
    "colab": {
     "base_uri": "https://localhost:8080/",
     "height": 873
    },
    "id": "IPFWffjPRxXM",
    "outputId": "001b5ddc-8004-44ab-a500-584c31d87951"
   },
   "outputs": [
    {
     "data": {
      "image/png": "[encoded data removed]",
      "text/plain": [
       "<Figure size 648x864 with 4 Axes>"
      ]
     },
     "metadata": {
      "tags": []
     },
     "output_type": "display_data"
    }
   ],
   "source": [
    "fig = m.plot_components(fcst)"
   ]
  },
  {
   "cell_type": "code",
   "execution_count": null,
   "metadata": {
    "colab": {
     "base_uri": "https://localhost:8080/",
     "height": 441
    },
    "id": "CRA7SlU3VBKh",
    "outputId": "839f7a4e-6438-48c1-bd92-3011b23b6011"
   },
   "outputs": [
    {
     "data": {
      "image/png": "[encoded data removed]",
      "text/plain": [
       "<Figure size 720x432 with 1 Axes>"
      ]
     },
     "metadata": {
      "tags": []
     },
     "output_type": "display_data"
    }
   ],
   "source": [
    "fig = m.plot(fcst)\n",
    "a = add_changepoints_to_plot(fig.gca(), m, fcst)"
   ]
  },
  {
   "cell_type": "markdown",
   "metadata": {
    "id": "CV4CvMFoVdlA"
   },
   "source": [
    "Так себе прогноз"
   ]
  },
  {
   "cell_type": "code",
   "execution_count": null,
   "metadata": {
    "colab": {
     "base_uri": "https://localhost:8080/",
     "height": 463
    },
    "id": "vsP0XgcQM1vJ",
    "outputId": "5ce813c6-c736-4c7c-c3c9-bd06e447143d"
   },
   "outputs": [
    {
     "data": {
      "text/plain": [
       "(0.0, 500.0)"
      ]
     },
     "execution_count": 22,
     "metadata": {
      "tags": []
     },
     "output_type": "execute_result"
    },
    {
     "data": {
      "image/png": "[encoded data removed]",
      "text/plain": [
       "<Figure size 720x432 with 1 Axes>"
      ]
     },
     "metadata": {
      "tags": []
     },
     "output_type": "display_data"
    }
   ],
   "source": [
    "fig = m.plot(fcst)\n",
    "ax = fig.gca()\n",
    "ax.set_xlim(pd.to_datetime(['2014-12-15 00:00:00', '2015-01-01 23:00:00'])) \n",
    "ax.set_ylim([0, 500]) "
   ]
  },
  {
   "cell_type": "code",
   "execution_count": null,
   "metadata": {
    "colab": {
     "base_uri": "https://localhost:8080/",
     "height": 85,
     "referenced_widgets": [
      "2f418495caec46d2805353a94045be91",
      "73367672c19f427bb6f22e56c4536805",
      "3a466f2e4e4b49de8b26c0b65af04e5e",
      "c03c7993f6a04ebca50f8994c06232aa",
      "38f69f9065984cfe91a6d55da5d58815",
      "0c7600a163334f8f8617699a821e3c66",
      "c63a9fd048e84f828d9fa343a0f5a4d1",
      "0eff01752d8b452890ce24f56c5be222"
     ]
    },
    "id": "NOby1RnZS5uA",
    "outputId": "cd4b89b1-e222-4ce0-fcc1-f0dfe506f102"
   },
   "outputs": [
    {
     "name": "stderr",
     "output_type": "stream",
     "text": [
      "INFO:fbprophet:Making 37 forecasts with cutoffs between 2012-01-14 23:00:00 and 2014-12-29 23:00:00\n"
     ]
    },
    {
     "data": {
      "application/vnd.jupyter.widget-view+json": {
       "model_id": "2f418495caec46d2805353a94045be91",
       "version_major": 2,
       "version_minor": 0
      },
      "text/plain": [
       "HBox(children=(FloatProgress(value=0.0, max=37.0), HTML(value='')))"
      ]
     },
     "metadata": {
      "tags": []
     },
     "output_type": "display_data"
    },
    {
     "name": "stdout",
     "output_type": "stream",
     "text": [
      "\n"
     ]
    }
   ],
   "source": [
    "df_cv = cross_validation(m, initial='730 days', period='30 day', horizon = '1 day')\n"
   ]
  },
  {
   "cell_type": "code",
   "execution_count": null,
   "metadata": {
    "colab": {
     "base_uri": "https://localhost:8080/",
     "height": 224
    },
    "id": "q8DfiCGBTMSM",
    "outputId": "341d06a3-4145-4847-9d0a-e90b7f046a69"
   },
   "outputs": [
    {
     "name": "stderr",
     "output_type": "stream",
     "text": [
      "INFO:fbprophet:Skipping MAPE because y close to 0\n"
     ]
    },
    {
     "data": {
      "text/html": [
       "<div>\n",
       "<style scoped>\n",
       "    .dataframe tbody tr th:only-of-type {\n",
       "        vertical-align: middle;\n",
       "    }\n",
       "\n",
       "    .dataframe tbody tr th {\n",
       "        vertical-align: top;\n",
       "    }\n",
       "\n",
       "    .dataframe thead th {\n",
       "        text-align: right;\n",
       "    }\n",
       "</style>\n",
       "<table border=\"1\" class=\"dataframe\">\n",
       "  <thead>\n",
       "    <tr style=\"text-align: right;\">\n",
       "      <th></th>\n",
       "      <th>horizon</th>\n",
       "      <th>mse</th>\n",
       "      <th>rmse</th>\n",
       "      <th>mae</th>\n",
       "      <th>mdape</th>\n",
       "      <th>coverage</th>\n",
       "    </tr>\n",
       "  </thead>\n",
       "  <tbody>\n",
       "    <tr>\n",
       "      <th>0</th>\n",
       "      <td>0 days 03:00:00</td>\n",
       "      <td>8885.451666</td>\n",
       "      <td>94.262674</td>\n",
       "      <td>75.046942</td>\n",
       "      <td>0.768060</td>\n",
       "      <td>0.860565</td>\n",
       "    </tr>\n",
       "    <tr>\n",
       "      <th>1</th>\n",
       "      <td>0 days 04:00:00</td>\n",
       "      <td>8327.479403</td>\n",
       "      <td>91.255024</td>\n",
       "      <td>73.521012</td>\n",
       "      <td>0.864000</td>\n",
       "      <td>0.876229</td>\n",
       "    </tr>\n",
       "    <tr>\n",
       "      <th>2</th>\n",
       "      <td>0 days 05:00:00</td>\n",
       "      <td>7357.451614</td>\n",
       "      <td>85.775589</td>\n",
       "      <td>70.917869</td>\n",
       "      <td>0.882993</td>\n",
       "      <td>0.887592</td>\n",
       "    </tr>\n",
       "    <tr>\n",
       "      <th>3</th>\n",
       "      <td>0 days 06:00:00</td>\n",
       "      <td>6695.130140</td>\n",
       "      <td>81.823775</td>\n",
       "      <td>68.578233</td>\n",
       "      <td>0.968610</td>\n",
       "      <td>0.891892</td>\n",
       "    </tr>\n",
       "    <tr>\n",
       "      <th>4</th>\n",
       "      <td>0 days 07:00:00</td>\n",
       "      <td>6334.223900</td>\n",
       "      <td>79.587838</td>\n",
       "      <td>66.711739</td>\n",
       "      <td>1.006402</td>\n",
       "      <td>0.914619</td>\n",
       "    </tr>\n",
       "  </tbody>\n",
       "</table>\n",
       "</div>"
      ],
      "text/plain": [
       "          horizon          mse       rmse        mae     mdape  coverage\n",
       "0 0 days 03:00:00  8885.451666  94.262674  75.046942  0.768060  0.860565\n",
       "1 0 days 04:00:00  8327.479403  91.255024  73.521012  0.864000  0.876229\n",
       "2 0 days 05:00:00  7357.451614  85.775589  70.917869  0.882993  0.887592\n",
       "3 0 days 06:00:00  6695.130140  81.823775  68.578233  0.968610  0.891892\n",
       "4 0 days 07:00:00  6334.223900  79.587838  66.711739  1.006402  0.914619"
      ]
     },
     "execution_count": 24,
     "metadata": {
      "tags": []
     },
     "output_type": "execute_result"
    }
   ],
   "source": [
    "df_p = performance_metrics(df_cv)\n",
    "df_p.head()"
   ]
  },
  {
   "cell_type": "code",
   "execution_count": null,
   "metadata": {
    "colab": {
     "base_uri": "https://localhost:8080/",
     "height": 388
    },
    "id": "iqMPYLe1TREM",
    "outputId": "3e6d8ee9-a43b-44c4-d39b-1b4bda93b027"
   },
   "outputs": [
    {
     "data": {
      "image/png": "[encoded data removed]",
      "text/plain": [
       "<Figure size 720x432 with 1 Axes>"
      ]
     },
     "metadata": {
      "tags": []
     },
     "output_type": "display_data"
    }
   ],
   "source": [
    "fig = plot_cross_validation_metric(df_cv, metric='rmse')"
   ]
  },
  {
   "cell_type": "code",
   "execution_count": null,
   "metadata": {
    "colab": {
     "base_uri": "https://localhost:8080/",
     "height": 736
    },
    "id": "9JMY7wJAn3Br",
    "outputId": "ec7124c2-9eae-413a-a733-2c6772e21280"
   },
   "outputs": [
    {
     "data": {
      "text/html": [
       "<div>\n",
       "<style scoped>\n",
       "    .dataframe tbody tr th:only-of-type {\n",
       "        vertical-align: middle;\n",
       "    }\n",
       "\n",
       "    .dataframe tbody tr th {\n",
       "        vertical-align: top;\n",
       "    }\n",
       "\n",
       "    .dataframe thead th {\n",
       "        text-align: right;\n",
       "    }\n",
       "</style>\n",
       "<table border=\"1\" class=\"dataframe\">\n",
       "  <thead>\n",
       "    <tr style=\"text-align: right;\">\n",
       "      <th></th>\n",
       "      <th>horizon</th>\n",
       "      <th>mse</th>\n",
       "      <th>rmse</th>\n",
       "      <th>mae</th>\n",
       "      <th>mdape</th>\n",
       "      <th>coverage</th>\n",
       "    </tr>\n",
       "  </thead>\n",
       "  <tbody>\n",
       "    <tr>\n",
       "      <th>0</th>\n",
       "      <td>0 days 03:00:00</td>\n",
       "      <td>8885.451666</td>\n",
       "      <td>94.262674</td>\n",
       "      <td>75.046942</td>\n",
       "      <td>0.768060</td>\n",
       "      <td>0.860565</td>\n",
       "    </tr>\n",
       "    <tr>\n",
       "      <th>1</th>\n",
       "      <td>0 days 04:00:00</td>\n",
       "      <td>8327.479403</td>\n",
       "      <td>91.255024</td>\n",
       "      <td>73.521012</td>\n",
       "      <td>0.864000</td>\n",
       "      <td>0.876229</td>\n",
       "    </tr>\n",
       "    <tr>\n",
       "      <th>2</th>\n",
       "      <td>0 days 05:00:00</td>\n",
       "      <td>7357.451614</td>\n",
       "      <td>85.775589</td>\n",
       "      <td>70.917869</td>\n",
       "      <td>0.882993</td>\n",
       "      <td>0.887592</td>\n",
       "    </tr>\n",
       "    <tr>\n",
       "      <th>3</th>\n",
       "      <td>0 days 06:00:00</td>\n",
       "      <td>6695.130140</td>\n",
       "      <td>81.823775</td>\n",
       "      <td>68.578233</td>\n",
       "      <td>0.968610</td>\n",
       "      <td>0.891892</td>\n",
       "    </tr>\n",
       "    <tr>\n",
       "      <th>4</th>\n",
       "      <td>0 days 07:00:00</td>\n",
       "      <td>6334.223900</td>\n",
       "      <td>79.587838</td>\n",
       "      <td>66.711739</td>\n",
       "      <td>1.006402</td>\n",
       "      <td>0.914619</td>\n",
       "    </tr>\n",
       "    <tr>\n",
       "      <th>5</th>\n",
       "      <td>0 days 08:00:00</td>\n",
       "      <td>5828.307756</td>\n",
       "      <td>76.343354</td>\n",
       "      <td>63.635036</td>\n",
       "      <td>0.756794</td>\n",
       "      <td>0.948710</td>\n",
       "    </tr>\n",
       "    <tr>\n",
       "      <th>6</th>\n",
       "      <td>0 days 09:00:00</td>\n",
       "      <td>6081.961075</td>\n",
       "      <td>77.986929</td>\n",
       "      <td>65.023514</td>\n",
       "      <td>0.640818</td>\n",
       "      <td>0.934582</td>\n",
       "    </tr>\n",
       "    <tr>\n",
       "      <th>7</th>\n",
       "      <td>0 days 10:00:00</td>\n",
       "      <td>6602.221624</td>\n",
       "      <td>81.254056</td>\n",
       "      <td>67.624574</td>\n",
       "      <td>0.795754</td>\n",
       "      <td>0.893428</td>\n",
       "    </tr>\n",
       "    <tr>\n",
       "      <th>8</th>\n",
       "      <td>0 days 11:00:00</td>\n",
       "      <td>6808.381895</td>\n",
       "      <td>82.512920</td>\n",
       "      <td>67.968327</td>\n",
       "      <td>0.841500</td>\n",
       "      <td>0.869165</td>\n",
       "    </tr>\n",
       "    <tr>\n",
       "      <th>9</th>\n",
       "      <td>0 days 12:00:00</td>\n",
       "      <td>6999.830942</td>\n",
       "      <td>83.664992</td>\n",
       "      <td>68.043682</td>\n",
       "      <td>0.773280</td>\n",
       "      <td>0.887592</td>\n",
       "    </tr>\n",
       "    <tr>\n",
       "      <th>10</th>\n",
       "      <td>0 days 13:00:00</td>\n",
       "      <td>7113.723560</td>\n",
       "      <td>84.342893</td>\n",
       "      <td>67.961489</td>\n",
       "      <td>0.893120</td>\n",
       "      <td>0.910319</td>\n",
       "    </tr>\n",
       "    <tr>\n",
       "      <th>11</th>\n",
       "      <td>0 days 14:00:00</td>\n",
       "      <td>6841.057444</td>\n",
       "      <td>82.710685</td>\n",
       "      <td>66.068801</td>\n",
       "      <td>1.028930</td>\n",
       "      <td>0.918919</td>\n",
       "    </tr>\n",
       "    <tr>\n",
       "      <th>12</th>\n",
       "      <td>0 days 15:00:00</td>\n",
       "      <td>6327.859751</td>\n",
       "      <td>79.547846</td>\n",
       "      <td>63.018039</td>\n",
       "      <td>1.034522</td>\n",
       "      <td>0.918919</td>\n",
       "    </tr>\n",
       "    <tr>\n",
       "      <th>13</th>\n",
       "      <td>0 days 16:00:00</td>\n",
       "      <td>5908.749091</td>\n",
       "      <td>76.868388</td>\n",
       "      <td>61.521188</td>\n",
       "      <td>0.853816</td>\n",
       "      <td>0.918919</td>\n",
       "    </tr>\n",
       "    <tr>\n",
       "      <th>14</th>\n",
       "      <td>0 days 17:00:00</td>\n",
       "      <td>5758.404347</td>\n",
       "      <td>75.884151</td>\n",
       "      <td>61.160060</td>\n",
       "      <td>0.935329</td>\n",
       "      <td>0.918919</td>\n",
       "    </tr>\n",
       "    <tr>\n",
       "      <th>15</th>\n",
       "      <td>0 days 18:00:00</td>\n",
       "      <td>5941.391778</td>\n",
       "      <td>77.080424</td>\n",
       "      <td>62.269982</td>\n",
       "      <td>0.742621</td>\n",
       "      <td>0.918919</td>\n",
       "    </tr>\n",
       "    <tr>\n",
       "      <th>16</th>\n",
       "      <td>0 days 19:00:00</td>\n",
       "      <td>6220.167628</td>\n",
       "      <td>78.868039</td>\n",
       "      <td>62.910227</td>\n",
       "      <td>0.954513</td>\n",
       "      <td>0.918919</td>\n",
       "    </tr>\n",
       "    <tr>\n",
       "      <th>17</th>\n",
       "      <td>0 days 20:00:00</td>\n",
       "      <td>6731.790079</td>\n",
       "      <td>82.047487</td>\n",
       "      <td>65.573835</td>\n",
       "      <td>0.858158</td>\n",
       "      <td>0.907555</td>\n",
       "    </tr>\n",
       "    <tr>\n",
       "      <th>18</th>\n",
       "      <td>0 days 21:00:00</td>\n",
       "      <td>7302.222932</td>\n",
       "      <td>85.453045</td>\n",
       "      <td>69.474605</td>\n",
       "      <td>0.949100</td>\n",
       "      <td>0.907555</td>\n",
       "    </tr>\n",
       "    <tr>\n",
       "      <th>19</th>\n",
       "      <td>0 days 22:00:00</td>\n",
       "      <td>7675.617736</td>\n",
       "      <td>87.610603</td>\n",
       "      <td>71.510347</td>\n",
       "      <td>0.956706</td>\n",
       "      <td>0.925983</td>\n",
       "    </tr>\n",
       "    <tr>\n",
       "      <th>20</th>\n",
       "      <td>0 days 23:00:00</td>\n",
       "      <td>8144.592004</td>\n",
       "      <td>90.247393</td>\n",
       "      <td>73.421195</td>\n",
       "      <td>1.007945</td>\n",
       "      <td>0.884828</td>\n",
       "    </tr>\n",
       "    <tr>\n",
       "      <th>21</th>\n",
       "      <td>1 days 00:00:00</td>\n",
       "      <td>8736.907162</td>\n",
       "      <td>93.471424</td>\n",
       "      <td>76.273531</td>\n",
       "      <td>0.956968</td>\n",
       "      <td>0.855037</td>\n",
       "    </tr>\n",
       "  </tbody>\n",
       "</table>\n",
       "</div>"
      ],
      "text/plain": [
       "           horizon          mse       rmse        mae     mdape  coverage\n",
       "0  0 days 03:00:00  8885.451666  94.262674  75.046942  0.768060  0.860565\n",
       "1  0 days 04:00:00  8327.479403  91.255024  73.521012  0.864000  0.876229\n",
       "2  0 days 05:00:00  7357.451614  85.775589  70.917869  0.882993  0.887592\n",
       "3  0 days 06:00:00  6695.130140  81.823775  68.578233  0.968610  0.891892\n",
       "4  0 days 07:00:00  6334.223900  79.587838  66.711739  1.006402  0.914619\n",
       "5  0 days 08:00:00  5828.307756  76.343354  63.635036  0.756794  0.948710\n",
       "6  0 days 09:00:00  6081.961075  77.986929  65.023514  0.640818  0.934582\n",
       "7  0 days 10:00:00  6602.221624  81.254056  67.624574  0.795754  0.893428\n",
       "8  0 days 11:00:00  6808.381895  82.512920  67.968327  0.841500  0.869165\n",
       "9  0 days 12:00:00  6999.830942  83.664992  68.043682  0.773280  0.887592\n",
       "10 0 days 13:00:00  7113.723560  84.342893  67.961489  0.893120  0.910319\n",
       "11 0 days 14:00:00  6841.057444  82.710685  66.068801  1.028930  0.918919\n",
       "12 0 days 15:00:00  6327.859751  79.547846  63.018039  1.034522  0.918919\n",
       "13 0 days 16:00:00  5908.749091  76.868388  61.521188  0.853816  0.918919\n",
       "14 0 days 17:00:00  5758.404347  75.884151  61.160060  0.935329  0.918919\n",
       "15 0 days 18:00:00  5941.391778  77.080424  62.269982  0.742621  0.918919\n",
       "16 0 days 19:00:00  6220.167628  78.868039  62.910227  0.954513  0.918919\n",
       "17 0 days 20:00:00  6731.790079  82.047487  65.573835  0.858158  0.907555\n",
       "18 0 days 21:00:00  7302.222932  85.453045  69.474605  0.949100  0.907555\n",
       "19 0 days 22:00:00  7675.617736  87.610603  71.510347  0.956706  0.925983\n",
       "20 0 days 23:00:00  8144.592004  90.247393  73.421195  1.007945  0.884828\n",
       "21 1 days 00:00:00  8736.907162  93.471424  76.273531  0.956968  0.855037"
      ]
     },
     "execution_count": 30,
     "metadata": {
      "tags": []
     },
     "output_type": "execute_result"
    }
   ],
   "source": [
    "df_p"
   ]
  },
  {
   "cell_type": "code",
   "execution_count": null,
   "metadata": {
    "colab": {
     "base_uri": "https://localhost:8080/"
    },
    "id": "aLC8K1Fio_lH",
    "outputId": "8ebf525a-8922-4107-91ec-d4c57e6d536a"
   },
   "outputs": [
    {
     "name": "stdout",
     "output_type": "stream",
     "text": [
      "RMSE on VC for fbprophet, average for 24 hours forward = 83.11816\n"
     ]
    }
   ],
   "source": [
    "print(f'RMSE on CV for fbprophet, average for 24 hours forward = {np.mean(df_p.rmse):.5f}')"
   ]
  },
  {
   "cell_type": "code",
   "execution_count": null,
   "metadata": {
    "colab": {
     "base_uri": "https://localhost:8080/",
     "height": 799
    },
    "id": "lHcCgH1Op6HH",
    "outputId": "58c1c57c-1481-486b-f9c9-f258ddec517b"
   },
   "outputs": [
    {
     "data": {
      "text/html": [
       "<div>\n",
       "<style scoped>\n",
       "    .dataframe tbody tr th:only-of-type {\n",
       "        vertical-align: middle;\n",
       "    }\n",
       "\n",
       "    .dataframe tbody tr th {\n",
       "        vertical-align: top;\n",
       "    }\n",
       "\n",
       "    .dataframe thead th {\n",
       "        text-align: right;\n",
       "    }\n",
       "</style>\n",
       "<table border=\"1\" class=\"dataframe\">\n",
       "  <thead>\n",
       "    <tr style=\"text-align: right;\">\n",
       "      <th></th>\n",
       "      <th>ds</th>\n",
       "      <th>yhat</th>\n",
       "    </tr>\n",
       "  </thead>\n",
       "  <tbody>\n",
       "    <tr>\n",
       "      <th>43776</th>\n",
       "      <td>2014-12-31 00:00:00</td>\n",
       "      <td>98.316424</td>\n",
       "    </tr>\n",
       "    <tr>\n",
       "      <th>43777</th>\n",
       "      <td>2014-12-31 01:00:00</td>\n",
       "      <td>98.303420</td>\n",
       "    </tr>\n",
       "    <tr>\n",
       "      <th>43778</th>\n",
       "      <td>2014-12-31 02:00:00</td>\n",
       "      <td>97.073278</td>\n",
       "    </tr>\n",
       "    <tr>\n",
       "      <th>43779</th>\n",
       "      <td>2014-12-31 03:00:00</td>\n",
       "      <td>94.222766</td>\n",
       "    </tr>\n",
       "    <tr>\n",
       "      <th>43780</th>\n",
       "      <td>2014-12-31 04:00:00</td>\n",
       "      <td>90.264109</td>\n",
       "    </tr>\n",
       "    <tr>\n",
       "      <th>43781</th>\n",
       "      <td>2014-12-31 05:00:00</td>\n",
       "      <td>86.488191</td>\n",
       "    </tr>\n",
       "    <tr>\n",
       "      <th>43782</th>\n",
       "      <td>2014-12-31 06:00:00</td>\n",
       "      <td>84.047721</td>\n",
       "    </tr>\n",
       "    <tr>\n",
       "      <th>43783</th>\n",
       "      <td>2014-12-31 07:00:00</td>\n",
       "      <td>83.103258</td>\n",
       "    </tr>\n",
       "    <tr>\n",
       "      <th>43784</th>\n",
       "      <td>2014-12-31 08:00:00</td>\n",
       "      <td>82.815311</td>\n",
       "    </tr>\n",
       "    <tr>\n",
       "      <th>43785</th>\n",
       "      <td>2014-12-31 09:00:00</td>\n",
       "      <td>82.153588</td>\n",
       "    </tr>\n",
       "    <tr>\n",
       "      <th>43786</th>\n",
       "      <td>2014-12-31 10:00:00</td>\n",
       "      <td>80.738333</td>\n",
       "    </tr>\n",
       "    <tr>\n",
       "      <th>43787</th>\n",
       "      <td>2014-12-31 11:00:00</td>\n",
       "      <td>78.962651</td>\n",
       "    </tr>\n",
       "    <tr>\n",
       "      <th>43788</th>\n",
       "      <td>2014-12-31 12:00:00</td>\n",
       "      <td>77.402971</td>\n",
       "    </tr>\n",
       "    <tr>\n",
       "      <th>43789</th>\n",
       "      <td>2014-12-31 13:00:00</td>\n",
       "      <td>76.224806</td>\n",
       "    </tr>\n",
       "    <tr>\n",
       "      <th>43790</th>\n",
       "      <td>2014-12-31 14:00:00</td>\n",
       "      <td>75.230270</td>\n",
       "    </tr>\n",
       "    <tr>\n",
       "      <th>43791</th>\n",
       "      <td>2014-12-31 15:00:00</td>\n",
       "      <td>74.456938</td>\n",
       "    </tr>\n",
       "    <tr>\n",
       "      <th>43792</th>\n",
       "      <td>2014-12-31 16:00:00</td>\n",
       "      <td>74.601548</td>\n",
       "    </tr>\n",
       "    <tr>\n",
       "      <th>43793</th>\n",
       "      <td>2014-12-31 17:00:00</td>\n",
       "      <td>76.680387</td>\n",
       "    </tr>\n",
       "    <tr>\n",
       "      <th>43794</th>\n",
       "      <td>2014-12-31 18:00:00</td>\n",
       "      <td>81.129120</td>\n",
       "    </tr>\n",
       "    <tr>\n",
       "      <th>43795</th>\n",
       "      <td>2014-12-31 19:00:00</td>\n",
       "      <td>87.184955</td>\n",
       "    </tr>\n",
       "    <tr>\n",
       "      <th>43796</th>\n",
       "      <td>2014-12-31 20:00:00</td>\n",
       "      <td>93.208572</td>\n",
       "    </tr>\n",
       "    <tr>\n",
       "      <th>43797</th>\n",
       "      <td>2014-12-31 21:00:00</td>\n",
       "      <td>97.737982</td>\n",
       "    </tr>\n",
       "    <tr>\n",
       "      <th>43798</th>\n",
       "      <td>2014-12-31 22:00:00</td>\n",
       "      <td>100.361239</td>\n",
       "    </tr>\n",
       "    <tr>\n",
       "      <th>43799</th>\n",
       "      <td>2014-12-31 23:00:00</td>\n",
       "      <td>101.653559</td>\n",
       "    </tr>\n",
       "  </tbody>\n",
       "</table>\n",
       "</div>"
      ],
      "text/plain": [
       "                       ds        yhat\n",
       "43776 2014-12-31 00:00:00   98.316424\n",
       "43777 2014-12-31 01:00:00   98.303420\n",
       "43778 2014-12-31 02:00:00   97.073278\n",
       "43779 2014-12-31 03:00:00   94.222766\n",
       "43780 2014-12-31 04:00:00   90.264109\n",
       "43781 2014-12-31 05:00:00   86.488191\n",
       "43782 2014-12-31 06:00:00   84.047721\n",
       "43783 2014-12-31 07:00:00   83.103258\n",
       "43784 2014-12-31 08:00:00   82.815311\n",
       "43785 2014-12-31 09:00:00   82.153588\n",
       "43786 2014-12-31 10:00:00   80.738333\n",
       "43787 2014-12-31 11:00:00   78.962651\n",
       "43788 2014-12-31 12:00:00   77.402971\n",
       "43789 2014-12-31 13:00:00   76.224806\n",
       "43790 2014-12-31 14:00:00   75.230270\n",
       "43791 2014-12-31 15:00:00   74.456938\n",
       "43792 2014-12-31 16:00:00   74.601548\n",
       "43793 2014-12-31 17:00:00   76.680387\n",
       "43794 2014-12-31 18:00:00   81.129120\n",
       "43795 2014-12-31 19:00:00   87.184955\n",
       "43796 2014-12-31 20:00:00   93.208572\n",
       "43797 2014-12-31 21:00:00   97.737982\n",
       "43798 2014-12-31 22:00:00  100.361239\n",
       "43799 2014-12-31 23:00:00  101.653559"
      ]
     },
     "execution_count": 55,
     "metadata": {
      "tags": []
     },
     "output_type": "execute_result"
    }
   ],
   "source": [
    "fin_pred = fcst.loc[(fcst['ds'] >= pd.to_datetime('2014-12-31 00:00:00')) & (fcst['ds'] < pd.to_datetime('2015-01-01 00:00:00'))][[\"ds\", \"yhat\"]]\n",
    "fin_pred.to_csv('fbpredict.csv', index=False)\n",
    "fin_pred"
   ]
  },
  {
   "cell_type": "code",
   "execution_count": null,
   "metadata": {
    "id": "T1dRO8M9sa5k"
   },
   "outputs": [],
   "source": [
    "with open('serialized_model_fbpr.json', 'w') as fout:\n",
    "    json.dump(model_to_json(m), fout)  # Save model"
   ]
  }
 ],
 "metadata": {
  "colab": {
   "authorship_tag": "ABX9TyN4k3x63b4DvoV+lTRNGD0U",
   "include_colab_link": true,
   "name": "analysis_and_fx.ipynb",
   "provenance": []
  },
  "kernelspec": {
   "display_name": "Python 3",
   "language": "python",
   "name": "python3"
  },
  "language_info": {
   "codemirror_mode": {
    "name": "ipython",
    "version": 3
   },
   "file_extension": ".py",
   "mimetype": "text/x-python",
   "name": "python",
   "nbconvert_exporter": "python",
   "pygments_lexer": "ipython3",
   "version": "3.8.10"
  },
  "widgets": {
   "application/vnd.jupyter.widget-state+json": {
    "0c7600a163334f8f8617699a821e3c66": {
     "model_module": "@jupyter-widgets/base",
     "model_name": "LayoutModel",
     "state": {
      "_model_module": "@jupyter-widgets/base",
      "_model_module_version": "1.2.0",
      "_model_name": "LayoutModel",
      "_view_count": null,
      "_view_module": "@jupyter-widgets/base",
      "_view_module_version": "1.2.0",
      "_view_name": "LayoutView",
      "align_content": null,
      "align_items": null,
      "align_self": null,
      "border": null,
      "bottom": null,
      "display": null,
      "flex": null,
      "flex_flow": null,
      "grid_area": null,
      "grid_auto_columns": null,
      "grid_auto_flow": null,
      "grid_auto_rows": null,
      "grid_column": null,
      "grid_gap": null,
      "grid_row": null,
      "grid_template_areas": null,
      "grid_template_columns": null,
      "grid_template_rows": null,
      "height": null,
      "justify_content": null,
      "justify_items": null,
      "left": null,
      "margin": null,
      "max_height": null,
      "max_width": null,
      "min_height": null,
      "min_width": null,
      "object_fit": null,
      "object_position": null,
      "order": null,
      "overflow": null,
      "overflow_x": null,
      "overflow_y": null,
      "padding": null,
      "right": null,
      "top": null,
      "visibility": null,
      "width": null
     }
    },
    "0eff01752d8b452890ce24f56c5be222": {
     "model_module": "@jupyter-widgets/base",
     "model_name": "LayoutModel",
     "state": {
      "_model_module": "@jupyter-widgets/base",
      "_model_module_version": "1.2.0",
      "_model_name": "LayoutModel",
      "_view_count": null,
      "_view_module": "@jupyter-widgets/base",
      "_view_module_version": "1.2.0",
      "_view_name": "LayoutView",
      "align_content": null,
      "align_items": null,
      "align_self": null,
      "border": null,
      "bottom": null,
      "display": null,
      "flex": null,
      "flex_flow": null,
      "grid_area": null,
      "grid_auto_columns": null,
      "grid_auto_flow": null,
      "grid_auto_rows": null,
      "grid_column": null,
      "grid_gap": null,
      "grid_row": null,
      "grid_template_areas": null,
      "grid_template_columns": null,
      "grid_template_rows": null,
      "height": null,
      "justify_content": null,
      "justify_items": null,
      "left": null,
      "margin": null,
      "max_height": null,
      "max_width": null,
      "min_height": null,
      "min_width": null,
      "object_fit": null,
      "object_position": null,
      "order": null,
      "overflow": null,
      "overflow_x": null,
      "overflow_y": null,
      "padding": null,
      "right": null,
      "top": null,
      "visibility": null,
      "width": null
     }
    },
    "2f418495caec46d2805353a94045be91": {
     "model_module": "@jupyter-widgets/controls",
     "model_name": "HBoxModel",
     "state": {
      "_dom_classes": [],
      "_model_module": "@jupyter-widgets/controls",
      "_model_module_version": "1.5.0",
      "_model_name": "HBoxModel",
      "_view_count": null,
      "_view_module": "@jupyter-widgets/controls",
      "_view_module_version": "1.5.0",
      "_view_name": "HBoxView",
      "box_style": "",
      "children": [
       "IPY_MODEL_3a466f2e4e4b49de8b26c0b65af04e5e",
       "IPY_MODEL_c03c7993f6a04ebca50f8994c06232aa"
      ],
      "layout": "IPY_MODEL_73367672c19f427bb6f22e56c4536805"
     }
    },
    "38f69f9065984cfe91a6d55da5d58815": {
     "model_module": "@jupyter-widgets/controls",
     "model_name": "ProgressStyleModel",
     "state": {
      "_model_module": "@jupyter-widgets/controls",
      "_model_module_version": "1.5.0",
      "_model_name": "ProgressStyleModel",
      "_view_count": null,
      "_view_module": "@jupyter-widgets/base",
      "_view_module_version": "1.2.0",
      "_view_name": "StyleView",
      "bar_color": null,
      "description_width": "initial"
     }
    },
    "3a466f2e4e4b49de8b26c0b65af04e5e": {
     "model_module": "@jupyter-widgets/controls",
     "model_name": "FloatProgressModel",
     "state": {
      "_dom_classes": [],
      "_model_module": "@jupyter-widgets/controls",
      "_model_module_version": "1.5.0",
      "_model_name": "FloatProgressModel",
      "_view_count": null,
      "_view_module": "@jupyter-widgets/controls",
      "_view_module_version": "1.5.0",
      "_view_name": "ProgressView",
      "bar_style": "success",
      "description": "100%",
      "description_tooltip": null,
      "layout": "IPY_MODEL_0c7600a163334f8f8617699a821e3c66",
      "max": 37,
      "min": 0,
      "orientation": "horizontal",
      "style": "IPY_MODEL_38f69f9065984cfe91a6d55da5d58815",
      "value": 37
     }
    },
    "73367672c19f427bb6f22e56c4536805": {
     "model_module": "@jupyter-widgets/base",
     "model_name": "LayoutModel",
     "state": {
      "_model_module": "@jupyter-widgets/base",
      "_model_module_version": "1.2.0",
      "_model_name": "LayoutModel",
      "_view_count": null,
      "_view_module": "@jupyter-widgets/base",
      "_view_module_version": "1.2.0",
      "_view_name": "LayoutView",
      "align_content": null,
      "align_items": null,
      "align_self": null,
      "border": null,
      "bottom": null,
      "display": null,
      "flex": null,
      "flex_flow": null,
      "grid_area": null,
      "grid_auto_columns": null,
      "grid_auto_flow": null,
      "grid_auto_rows": null,
      "grid_column": null,
      "grid_gap": null,
      "grid_row": null,
      "grid_template_areas": null,
      "grid_template_columns": null,
      "grid_template_rows": null,
      "height": null,
      "justify_content": null,
      "justify_items": null,
      "left": null,
      "margin": null,
      "max_height": null,
      "max_width": null,
      "min_height": null,
      "min_width": null,
      "object_fit": null,
      "object_position": null,
      "order": null,
      "overflow": null,
      "overflow_x": null,
      "overflow_y": null,
      "padding": null,
      "right": null,
      "top": null,
      "visibility": null,
      "width": null
     }
    },
    "c03c7993f6a04ebca50f8994c06232aa": {
     "model_module": "@jupyter-widgets/controls",
     "model_name": "HTMLModel",
     "state": {
      "_dom_classes": [],
      "_model_module": "@jupyter-widgets/controls",
      "_model_module_version": "1.5.0",
      "_model_name": "HTMLModel",
      "_view_count": null,
      "_view_module": "@jupyter-widgets/controls",
      "_view_module_version": "1.5.0",
      "_view_name": "HTMLView",
      "description": "",
      "description_tooltip": null,
      "layout": "IPY_MODEL_0eff01752d8b452890ce24f56c5be222",
      "placeholder": "​",
      "style": "IPY_MODEL_c63a9fd048e84f828d9fa343a0f5a4d1",
      "value": " 37/37 [48:49&lt;00:00, 79.18s/it]"
     }
    },
    "c63a9fd048e84f828d9fa343a0f5a4d1": {
     "model_module": "@jupyter-widgets/controls",
     "model_name": "DescriptionStyleModel",
     "state": {
      "_model_module": "@jupyter-widgets/controls",
      "_model_module_version": "1.5.0",
      "_model_name": "DescriptionStyleModel",
      "_view_count": null,
      "_view_module": "@jupyter-widgets/base",
      "_view_module_version": "1.2.0",
      "_view_name": "StyleView",
      "description_width": ""
     }
    }
   }
  }
 },
 "nbformat": 4,
 "nbformat_minor": 1
}
